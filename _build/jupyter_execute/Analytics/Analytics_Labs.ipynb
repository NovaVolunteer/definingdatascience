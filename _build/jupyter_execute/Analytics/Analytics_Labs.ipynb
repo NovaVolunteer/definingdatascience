{
 "cells": [
  {
   "cell_type": "markdown",
   "id": "15d8a307",
   "metadata": {},
   "source": [
    "# Analytics Labs\n",
    "\n",
    "## Lab 1 - Mastermind entropy\n",
    "\n",
    "DS 1001 - Spring 2023 - Professors Wright and Alonzi\n",
    "\n",
    "Due: End of lab period (or later that day)\n",
    "\n",
    "Submission format: Word doc or PDF summarizing your findings\n",
    "\n",
    "Individual Assignment\n",
    "\n",
    "**General Descripition:** This lab is designed to introduce the basic concepts behind information gain and entropy. Mastermind is a game were through a series of questions one player tries to determine a \"code\" created by another player. In doing so the value of asking questions that provide a high level of information will become paramount.\n",
    "\n",
    "Preparatory Assignments - None\n",
    "\n",
    "**Why am I doing this?** In order to gain a better understanding of information gain and entropy through hands on experience.\n",
    "\n",
    "**What am I going to do?** Work with a partner or group of three and alternate playing the game. At the onset of each game the code-maker should calculate the entropy of the chosen pegs for the \"code\". The code-breaker should note the results of the game . This should include whether the code was broken or not and the number of rounds used. Try to be the code-maker and breaker at least 3 times. The code-maker should intentionally use very different types of \"code\", this should impact how the game is played.\n",
    "\n",
    "-   Note the range of entropy for binary cases is 0 to 1 for more than 2 classes it is 0 to log~2~ *k*, where *k* is the number of classes.\n",
    "\n",
    "**Answer these questions:**\n",
    "\n",
    "1.  What combinations of pegs (code) seemed to be harder to break?\n",
    "2.  Did your approach to asking questions change as you played?\n",
    "3.  Describe where in the game information gain is being presented?\n",
    "\n",
    "Tips for success:\n",
    "\n",
    "-   Don't worry about winning, instead think about what is happening during game play.\n",
    "-   Work as a team with your group.\n",
    "-   Try to document the process used right at the start of the lab, don't wait till after you have played to start taking notes.\n",
    "\n",
    "How will I know I have succeeded:\n",
    "\n",
    "| Specs Category |                                                                 Specs Detail                                                                  |\n",
    "|:----------------------------------:|:----------------------------------:|\n",
    "|   Submission   |                                                   Submit via Canvas a PDF or Word Document                                                    |\n",
    "|      Text      | \\* Answer the above questions<br> \\* When you were the code-maker submit the Entropy<br> \\* When you were the code-breaker submit the results |\n",
    "\n",
    "Acknowledgements: Special thanks for Jess Taggart from UVA CTE for coaching us. This structure is pulled directory from Steifer & Palmer (2020).\n",
    "\n",
    "## Lab 2 - Old Faithful\n",
    "\n",
    "[![Open In Colab](https://colab.research.google.com/assets/colab-badge.svg)](https://colab.research.google.com/github/UVADS/DS1001/blob/master/ddsbook/analytics-lab-II.qmd) \n"
   ]
  },
  {
   "cell_type": "code",
   "execution_count": 1,
   "id": "4594bbee",
   "metadata": {},
   "outputs": [
    {
     "ename": "ModuleNotFoundError",
     "evalue": "No module named 'matplotlib'",
     "output_type": "error",
     "traceback": [
      "\u001b[1;31m---------------------------------------------------------------------------\u001b[0m",
      "\u001b[1;31mModuleNotFoundError\u001b[0m                       Traceback (most recent call last)",
      "Cell \u001b[1;32mIn[1], line 4\u001b[0m\n\u001b[0;32m      2\u001b[0m \u001b[38;5;28;01mimport\u001b[39;00m \u001b[38;5;21;01mnumpy\u001b[39;00m \u001b[38;5;28;01mas\u001b[39;00m \u001b[38;5;21;01mnp\u001b[39;00m\n\u001b[0;32m      3\u001b[0m \u001b[38;5;28;01mimport\u001b[39;00m \u001b[38;5;21;01mpandas\u001b[39;00m \u001b[38;5;28;01mas\u001b[39;00m \u001b[38;5;21;01mpd\u001b[39;00m\n\u001b[1;32m----> 4\u001b[0m \u001b[38;5;28;01mimport\u001b[39;00m \u001b[38;5;21;01mmatplotlib\u001b[39;00m\u001b[38;5;21;01m.\u001b[39;00m\u001b[38;5;21;01mpyplot\u001b[39;00m \u001b[38;5;28;01mas\u001b[39;00m \u001b[38;5;21;01mplt\u001b[39;00m \n\u001b[0;32m      5\u001b[0m \u001b[38;5;28;01mimport\u001b[39;00m \u001b[38;5;21;01mstatsmodels\u001b[39;00m\u001b[38;5;21;01m.\u001b[39;00m\u001b[38;5;21;01mapi\u001b[39;00m \u001b[38;5;28;01mas\u001b[39;00m \u001b[38;5;21;01msm\u001b[39;00m\n",
      "\u001b[1;31mModuleNotFoundError\u001b[0m: No module named 'matplotlib'"
     ]
    }
   ],
   "source": [
    "# pip install statsmodels\n",
    "import numpy as np\n",
    "import pandas as pd\n",
    "import matplotlib.pyplot as plt \n",
    "import statsmodels.api as sm\n"
   ]
  },
  {
   "cell_type": "markdown",
   "id": "e136e402",
   "metadata": {},
   "source": [
    "## What we are going to do is add guassian noise itertatively to a dataset and then pass the new noisy dataset to a pretrained machine linear model and track the ability of the model to learn the target as noise increases. \n",
    "\n",
    "1. Read this brief article on garbage in garbage out and this brief article on guassian noise. \n",
    "\n",
    "2. Answer the questions below as they relate to model output and the articles. \n"
   ]
  },
  {
   "cell_type": "code",
   "execution_count": null,
   "id": "c7175f52",
   "metadata": {},
   "outputs": [],
   "source": [
    "# This is the dataset we will be using: classic eruption times for old faithful. \n",
    "# Take a look at the documentation \n",
    "# here: https://www.rdocumentation.org/packages/datasets/versions/3.6.2/topics/faithful\n",
    "\n",
    "\n",
    "# This is our data source\n",
    "url=\"https://gist.githubusercontent.com/curran/4b59d1046d9e66f2787780ad51a1cd87/raw/9ec906b78a98cf300947a37b56cfe70d01183200/data.tsv\"\n",
    "\n",
    "\n",
    "# Reading in the data, and use the \"tab\" as a separator so the data will be loaded \n",
    "# in correctly.  pd stands for pandas and \"pd.read_csv\" is the function we are \n",
    "# using to read in the data from the url.\n",
    "old_faith = pd.read_csv(url, sep='\\t')"
   ]
  },
  {
   "cell_type": "markdown",
   "id": "f5259f3f",
   "metadata": {},
   "source": [
    "## Let's take a quick look at a plot to get an idea of the distribution of the data. \n"
   ]
  },
  {
   "cell_type": "code",
   "execution_count": null,
   "id": "01212d6d",
   "metadata": {},
   "outputs": [],
   "source": [
    "plt.scatter(old_faith.eruptions, old_faith.waiting, alpha=0.5)\n",
    "plt.xlabel(\"Eruption Time\")\n",
    "plt.ylabel(\"Waiting Time\")\n",
    "\n",
    "plt.show()\n",
    "\n",
    "# Note the patterns that you see, (you'll need this for your submission) "
   ]
  },
  {
   "cell_type": "markdown",
   "id": "7bb6c9f8",
   "metadata": {},
   "source": [
    "## Next lets build a simple model to predict Eruption Length based on Waiting Time \n"
   ]
  },
  {
   "cell_type": "code",
   "execution_count": null,
   "id": "0fcdec2d",
   "metadata": {},
   "outputs": [],
   "source": [
    "lm = sm.OLS(old_faith['waiting'],old_faith['eruptions']).fit()\n",
    "\n",
    "lm.summary()\n",
    "\n",
    "#Using the R2 measure, how well does the model predict (scale of 0 to 1,\n",
    "#  where 1 is perfect, again needed for your submission)"
   ]
  },
  {
   "cell_type": "markdown",
   "id": "0d579fcc",
   "metadata": {},
   "source": [
    "## Now what we are going to do is add \"noise\" to the dataset and then rerun the model and see what happens."
   ]
  },
  {
   "cell_type": "code",
   "execution_count": null,
   "id": "7c591071",
   "metadata": {},
   "outputs": [],
   "source": [
    "# mu= mean and sigma =standard deviation\n",
    "mu, sigma = 0, .5 \n",
    "# creating a noise with the same dimension as the dataset (2,2) \n",
    "noise = np.random.normal(mu, sigma, [272,2]) \n",
    "print(noise[0:5])"
   ]
  },
  {
   "cell_type": "markdown",
   "id": "61702595",
   "metadata": {},
   "source": [
    "## Really a small change, let's see what happens to the model quality"
   ]
  },
  {
   "cell_type": "code",
   "execution_count": null,
   "id": "86afe967",
   "metadata": {},
   "outputs": [],
   "source": [
    "# Here we are adding the noise to the dataset\n",
    "old_faith_1=old_faith + noise\n",
    "\n",
    "#Create a new model\n",
    "lm_1 = sm.OLS(old_faith_1['waiting'],old_faith_1['eruptions']).fit()\n",
    "\n",
    "#Checking the R2 number\n",
    "lm_1.summary()"
   ]
  },
  {
   "cell_type": "markdown",
   "id": "edb7278d",
   "metadata": {},
   "source": [
    "## Now let's take a look at that same scatter plot but with the new data"
   ]
  },
  {
   "cell_type": "code",
   "execution_count": null,
   "id": "ba122583",
   "metadata": {},
   "outputs": [],
   "source": [
    "plt.scatter(old_faith_1.eruptions, old_faith_1.waiting, alpha=0.5)\n",
    "plt.xlabel(\"Eruption Time\")\n",
    "plt.ylabel(\"Waiting Time\")\n",
    "\n",
    "plt.show()"
   ]
  },
  {
   "cell_type": "markdown",
   "id": "ae99e422",
   "metadata": {},
   "source": [
    "### Task 1: Slowly change the standard deviation (increases of .25) and see what happens with the R2 number, note the pace of change of the model.  \n",
    "\n",
    "### Task 2: Adjust the mean but leave the standard dev low, note how this effects the model.  \n",
    "\n",
    "## Questions for submission: \n",
    "\n",
    "1. What patterns do you see in the data?\n",
    "\n",
    "2. How well did the first model fit the data? \n",
    "\n",
    "3. Explain the concept behind noise versus signal as it relates to example today on the old faithful dataset.  \n",
    "\n",
    "4. Define the term gaussian noise and explain the observations you noted as it relates to \n"
   ]
  }
 ],
 "metadata": {
  "kernelspec": {
   "display_name": "Python 3 (ipykernel)",
   "language": "python",
   "name": "python3"
  },
  "language_info": {
   "codemirror_mode": {
    "name": "ipython",
    "version": 3
   },
   "file_extension": ".py",
   "mimetype": "text/x-python",
   "name": "python",
   "nbconvert_exporter": "python",
   "pygments_lexer": "ipython3",
   "version": "3.11.4"
  }
 },
 "nbformat": 4,
 "nbformat_minor": 5
}